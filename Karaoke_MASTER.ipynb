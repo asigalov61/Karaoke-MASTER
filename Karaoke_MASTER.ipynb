{
  "nbformat": 4,
  "nbformat_minor": 0,
  "metadata": {
    "kernelspec": {
      "display_name": "Python 3",
      "language": "python",
      "name": "python3"
    },
    "language_info": {
      "codemirror_mode": {
        "name": "ipython",
        "version": 3
      },
      "file_extension": ".py",
      "mimetype": "text/x-python",
      "name": "python",
      "nbconvert_exporter": "python",
      "pygments_lexer": "ipython3",
      "version": "3.8.5"
    },
    "colab": {
      "name": "Karaoke-MASTER.ipynb",
      "private_outputs": true,
      "provenance": [],
      "collapsed_sections": [],
      "machine_shape": "hm",
      "include_colab_link": true
    },
    "accelerator": "GPU"
  },
  "cells": [
    {
      "cell_type": "markdown",
      "metadata": {
        "id": "view-in-github",
        "colab_type": "text"
      },
      "source": [
        "<a href=\"https://colab.research.google.com/github/asigalov61/Karaoke-MASTER/blob/main/Karaoke_MASTER.ipynb\" target=\"_parent\"><img src=\"https://colab.research.google.com/assets/colab-badge.svg\" alt=\"Open In Colab\"/></a>"
      ]
    },
    {
      "cell_type": "markdown",
      "metadata": {
        "id": "QA0W-VK1JVQl"
      },
      "source": [
        "# Karaoke MASTER (ver. 2.1)\n",
        "\n",
        "***\n",
        "\n",
        "## GPT2-based Karaoke Melody Artificial Intelligence Model Creator/Trainer.\n",
        "\n",
        "***\n",
        "\n",
        "Credit for char-based GPT2 implementation used in this colab goes out to Andrej Karpathy: https://github.com/karpathy/minGPT\n",
        "\n",
        "***\n",
        "\n",
        "WARNING: This complete implementation is a functioning model of the Artificial Intelligence. Please excercise great humility, care, and respect.\n",
        "\n",
        "***\n",
        "\n",
        "##### Project Los Angeles\n",
        "\n",
        "##### Tegridy Code 2021\n",
        "\n",
        "***"
      ]
    },
    {
      "cell_type": "markdown",
      "metadata": {
        "id": "eftzIVKrqR5S"
      },
      "source": [
        "# Setup Environment, clone needed repos, and install all required dependencies"
      ]
    },
    {
      "cell_type": "code",
      "metadata": {
        "id": "HsUtsJGNz6f2",
        "cellView": "form"
      },
      "source": [
        "#@title Install all dependencies (run only once per session)\n",
        "\n",
        "!git clone https://github.com/asigalov61/tegridy-tools\n",
        "!apt install fluidsynth #Pip does not work for some reason. Only apt works\n",
        "!pip install midi2audio\n",
        "!pip install wordcloud"
      ],
      "execution_count": null,
      "outputs": []
    },
    {
      "cell_type": "code",
      "metadata": {
        "id": "pf8B3p6QySmE",
        "cellView": "form"
      },
      "source": [
        "#@title Import all needed modules\n",
        "\n",
        "print('Loading needed modules. Please wait...')\n",
        "import os\n",
        "\n",
        "if not os.path.exists('/content/Dataset'):\n",
        "    os.makedirs('/content/Dataset')\n",
        "\n",
        "os.chdir('/content/tegridy-tools/tegridy-tools')\n",
        "import TMIDI\n",
        "\n",
        "os.chdir('/content/tegridy-tools/tegridy-tools/minGPT')\n",
        "from minGPT import *\n",
        "\n",
        "from midi2audio import FluidSynth\n",
        "from IPython.display import display, Javascript, HTML, Audio\n",
        "\n",
        "from wordcloud import WordCloud\n",
        "\n",
        "from google.colab import output, drive\n",
        "\n",
        "print('Loading complete. Enjoy! :)')\n",
        "\n",
        "os.chdir('/content/')"
      ],
      "execution_count": null,
      "outputs": []
    },
    {
      "cell_type": "markdown",
      "metadata": {
        "id": "N2Pv5eNRqiyr"
      },
      "source": [
        "# Download and process MIDI dataset"
      ]
    },
    {
      "cell_type": "code",
      "metadata": {
        "id": "EHuggjW7etzZ",
        "cellView": "form"
      },
      "source": [
        "#@title Download Tiny Karaoke MIDI dataset\n",
        "\n",
        "#@markdown Works best stand-alone/as-is for the optimal results\n",
        "%cd /content/Dataset/\n",
        "!wget 'https://github.com/asigalov61/Tegridy-MIDI-Dataset/raw/master/Tiny-Karaoke-MIDI-Dataset-CC-BY-NC-SA.zip'\n",
        "!unzip -j '/content/Dataset/Tiny-Karaoke-MIDI-Dataset-CC-BY-NC-SA.zip'\n",
        "!rm '/content/Dataset/Tiny-Karaoke-MIDI-Dataset-CC-BY-NC-SA.zip'\n",
        "%cd /content/"
      ],
      "execution_count": null,
      "outputs": []
    },
    {
      "cell_type": "markdown",
      "metadata": {
        "id": "-1ypXZoySkHJ"
      },
      "source": [
        "# If you are not sure where to start or what settings to select, please use original defaults"
      ]
    },
    {
      "cell_type": "code",
      "metadata": {
        "id": "BRy0VfpFIpaj",
        "cellView": "form"
      },
      "source": [
        "#@title Process MIDIs to special MIDI dataset with Tegridy MIDI Processor\n",
        "\n",
        "full_path_to_output_dataset_to = \"/content/Karaoke-MASTER\" #@param {type:\"string\"}\n",
        "#@title Convert MIDI dataset to the Reduced TXT Karaoke dataset\n",
        "\n",
        "#@markdown Make sure to select the right encoding for your language. Encoding is correct when you can properly and clearly read it in your language. Encodings list is located here: https://docs.python.org/3/library/codecs.html#standard-encodings\n",
        "\n",
        "full_path_to_TXT_dataset = \"/content/Karaoke-MASTER_TXT_Dataset.txt\" #@param {type:\"string\"}\n",
        "karaoke_language_encoding = \"utf_8\" #@param {type:\"string\"}\n",
        "dataset_name = \"DATASET=Karaoke-MASTER_TXT_Dataset\"\n",
        "\n",
        "%cd /content/\n",
        "\n",
        "print('TMIDI Processor')\n",
        "print('Starting up...')\n",
        "\n",
        "events_list = []\n",
        "events_matrix = []\n",
        "\n",
        "###########\n",
        "\n",
        "files_count = 0\n",
        "\n",
        "mev = 0\n",
        "kev = 0\n",
        "\n",
        "TXT = ''\n",
        "\n",
        "chords_list_f = []\n",
        "melody_list_f = []\n",
        "\n",
        "all_words = ''\n",
        "pitches_words_list = []\n",
        "\n",
        "print('Loading MIDI files...')\n",
        "print('This may take a while on a large dataset in particular.')\n",
        "\n",
        "dataset_addr = \"/content/Dataset/\"\n",
        "os.chdir(dataset_addr)\n",
        "filez = os.listdir(dataset_addr)\n",
        "\n",
        "print('Processing MIDI files. Please wait...')\n",
        "for f in tqdm.auto.tqdm(filez):\n",
        "  try:\n",
        "    events_matrix, mev, kev, pwl, aw = TMIDI.Tegridy_Karaoke_MIDI_to_Reduced_TXT_Processor(f, karaoke_language_encoding)\n",
        "    TXT += events_matrix\n",
        "    pitches_words_list.extend(pwl)\n",
        "    all_words += aw\n",
        "    files_count += 1\n",
        "\n",
        "  except:\n",
        "    print('Problematic MIDI:', f)\n",
        "    continue\n",
        "\n",
        "TMIDI.Tegridy_TXT_Dataset_File_Writer(full_path_to_TXT_dataset, '', dataset_name + '\\n' + TXT)\n",
        "\n",
        "TMIDI.Tegridy_Karaoke_Pitches_Words_List_to_CSV_Writer(pitches_words_list, '/content/test.csv')  "
      ],
      "execution_count": null,
      "outputs": []
    },
    {
      "cell_type": "code",
      "metadata": {
        "cellView": "form",
        "id": "hlFuMTcGM1sN"
      },
      "source": [
        "#@title Generate a nice Word Cloud of the processed dataset\n",
        "wordcloud = WordCloud(width=1920, height=1068, margin=0, colormap='Blues').generate(all_words)\n",
        "\n",
        "plt.figure(figsize=(19, 12))\n",
        "plt.imshow(wordcloud, interpolation='bilinear')\n",
        "plt.axis(\"off\")\n",
        "plt.margins(x=0, y=0)\n",
        "plt.show()"
      ],
      "execution_count": null,
      "outputs": []
    },
    {
      "cell_type": "markdown",
      "metadata": {
        "id": "0cj2xl5xqwea"
      },
      "source": [
        "# Setup and Intialize the Model\r\n",
        "\r\n",
        "## YOU MUST RUN THE CELL/CODE IN THE SECTION BELOW to init the model. Does not matter if the model is empty or pre-trained.\r\n",
        "\r\n",
        "## DO NOT EXECUTE TRAIN CELL/CODE UNLESS YOU INTEND TO TRAIN FROM SCRATCH"
      ]
    },
    {
      "cell_type": "code",
      "metadata": {
        "cellView": "form",
        "id": "4wVaOsJljv_K"
      },
      "source": [
        "#@title Create/prepare GPT2 model and load the dataset\r\n",
        "\r\n",
        "full_path_to_training_text_file = \"/content/Karaoke-MASTER_TXT_Dataset.txt\" #@param {type:\"string\"}\r\n",
        "model_attention_span_in_tokens = 512 #@param {type:\"slider\", min:0, max:1024, step:16}\r\n",
        "model_embed_size = 256 #@param {type:\"slider\", min:0, max:1024, step:64}\r\n",
        "number_of_heads = 16 #@param {type:\"slider\", min:1, max:16, step:1}\r\n",
        "number_of_layers = 4 #@param {type:\"slider\", min:1, max:16, step:1}\r\n",
        "number_of_training_epochs = 2 #@param {type:\"slider\", min:1, max:5, step:1}\r\n",
        "training_batch_size = 48 #@param {type:\"slider\", min:0, max:160, step:4}\r\n",
        "model_learning_rate = 6e-4 #@param {type:\"number\"}\r\n",
        "\r\n",
        "trainer, model, train_dataset = MainLoader(full_path_to_training_text_file,\r\n",
        "                                          None,\r\n",
        "                                          16,\r\n",
        "                                          model_attention_span_in_tokens,\r\n",
        "                                          model_embed_size,\r\n",
        "                                          number_of_heads,\r\n",
        "                                          number_of_layers,\r\n",
        "                                          number_of_training_epochs,\r\n",
        "                                          training_batch_size,\r\n",
        "                                          model_learning_rate)"
      ],
      "execution_count": null,
      "outputs": []
    },
    {
      "cell_type": "markdown",
      "metadata": {
        "id": "B_18H-M-q4CB"
      },
      "source": [
        "# Train the model or Load/Re-load the existing pre-trained model checkpoint"
      ]
    },
    {
      "cell_type": "code",
      "metadata": {
        "id": "cRffqT9WFBHB",
        "cellView": "form"
      },
      "source": [
        "#@title (OPTION 1) Train the model\n",
        "%cd /content/\n",
        "trainer.train()"
      ],
      "execution_count": null,
      "outputs": []
    },
    {
      "cell_type": "code",
      "metadata": {
        "id": "YVWEhUj1cg7N",
        "cellView": "form"
      },
      "source": [
        "#@title Plot Positional Embeddings\n",
        "\n",
        "# visualize some of the learned positional embeddings, maybe they contain structure\n",
        "PlotPositionalEmbeddings(model, model_attention_span_in_tokens)"
      ],
      "execution_count": null,
      "outputs": []
    },
    {
      "cell_type": "code",
      "metadata": {
        "id": "pMkyEMghC-KR",
        "cellView": "form"
      },
      "source": [
        "#@title Save/Re-Save the model from memory\n",
        "#@markdown Standard PyTorch AI models file extension is PTH\n",
        "full_path_to_save_model_to = \"/content/Karaoke-MASTER-Trained-Model.pth\" #@param {type:\"string\"}\n",
        "%cd /content/\n",
        "torch.save(model, full_path_to_save_model_to)"
      ],
      "execution_count": null,
      "outputs": []
    },
    {
      "cell_type": "code",
      "metadata": {
        "id": "CmD7VRZhDcnJ",
        "cellView": "form"
      },
      "source": [
        "#@title (OPTION 2) Load existing model/checkpoint\n",
        "full_path_to_model_checkpoint = \"/content/Karaoke-MASTER-Trained-Model.pth\" #@param {type:\"string\"}\n",
        "model = torch.load(full_path_to_model_checkpoint)\n",
        "model.eval()"
      ],
      "execution_count": null,
      "outputs": []
    },
    {
      "cell_type": "markdown",
      "metadata": {
        "id": "FfgeQl8_rEox"
      },
      "source": [
        "# Generate, download, plot, and listen to the output"
      ]
    },
    {
      "cell_type": "code",
      "metadata": {
        "id": "6ZEqKJ6NySmV",
        "cellView": "form"
      },
      "source": [
        "#@title Generate and download the composition as TXT file.\n",
        "#@markdown PLEASE NOTE IMPORTANT POINTS: \n",
        "\n",
        "#@markdown 0) If you are not sure where to start/what settings to set, please use original defaults.\n",
        "\n",
        "#@markdown 1) Model primes from the dataset !!!\n",
        "\n",
        "#@markdown 2) Model's first output may be empty or garbled so please try several times before discarting the model\n",
        "\n",
        "print('Karaoke MASTER Model Generator')\n",
        "print('Starting up...')\n",
        "number_of_tokens_to_generate = 2048 #@param {type:\"slider\", min:0, max:32768, step:128}\n",
        "creativity_temperature = 0.8 #@param {type:\"slider\", min:0.05, max:4, step:0.05}\n",
        "top_k_prob = 4 #@param {type:\"slider\", min:0, max:50, step:1}\n",
        "input_prompt = \"Love\" #@param {type:\"string\"}\n",
        "\n",
        "debug = False \n",
        "\n",
        "os.chdir('/content/')\n",
        "\n",
        "completion = Generate(model,\n",
        "                      train_dataset,\n",
        "                      trainer,\n",
        "                      number_of_tokens_to_generate,\n",
        "                      creativity_temperature,\n",
        "                      top_k_prob,\n",
        "                      input_prompt)\n",
        "\n",
        "fname = TMIDI.Tegridy_File_Time_Stamp('/content/Karaoke-MASTER-Composition-')\n",
        "\n",
        "print('Done!')\n",
        "print('Saving to', str(fname + '.txt'))\n",
        "with open(fname + '.txt', \"w\") as text_file:\n",
        "    print(completion, file=text_file)\n",
        "\n",
        "print('Downloading TXT file...')\n",
        "from google.colab import files\n",
        "files.download(fname + '.txt')"
      ],
      "execution_count": null,
      "outputs": []
    },
    {
      "cell_type": "code",
      "metadata": {
        "id": "H1E1cICZ9QtF",
        "cellView": "form"
      },
      "source": [
        "#@title Convert generated Karaoke TXT file to the Karaoke MIDI file\n",
        "text_encoding = \"utf_8\" #@param {type:\"string\"}\n",
        "\n",
        "print('Karaoke TXT to Karaoke MIDI Processor')\n",
        "print('Making your file. Please stand-by...')\n",
        "\n",
        "KAR_ev = 0\n",
        "song_name = ''\n",
        "lyrics = ''\n",
        "\n",
        "print('Converting Karaoke TXT to Song...')\n",
        "song_name, song, lyrics, KAR_ev = TMIDI.Tegridy_Karaoke_TXT_to_MIDI_Processor(completion, text_encoding)\n",
        "\n",
        "print('Saving your Karaoke MIDI file...')\n",
        "TMIDI.Tegridy_SONG_to_MIDI_Converter(song, output_file_name=fname, output_signature='Karaoke-MASTER', track_name=song_name, text_encoding=text_encoding)\n",
        "\n",
        "print('Downloading your Karaoke MIDI file...')\n",
        "from google.colab import files\n",
        "files.download(fname + '.mid')\n",
        "\n",
        "print('Task complete! Enjoy :)')"
      ],
      "execution_count": null,
      "outputs": []
    },
    {
      "cell_type": "code",
      "metadata": {
        "id": "guq5UDgsE3L-",
        "cellView": "form"
      },
      "source": [
        "#@title Show generated Karaoke lyrics and its word cloud\n",
        "from pprint import pprint\n",
        "pprint(lyrics)\n",
        "\n",
        "#@title Generate a nice Word Cloud of the processed dataset\n",
        "wordcloud = WordCloud(width=1920, height=1068, margin=0, colormap='Blues').generate(lyrics)\n",
        "\n",
        "plt.figure(figsize=(19, 12))\n",
        "plt.imshow(wordcloud, interpolation='bilinear')\n",
        "plt.axis(\"off\")\n",
        "plt.margins(x=0, y=0)\n",
        "plt.show()"
      ],
      "execution_count": null,
      "outputs": []
    },
    {
      "cell_type": "code",
      "metadata": {
        "id": "kILhoHR7JmmS",
        "cellView": "form"
      },
      "source": [
        "#@title Listen to the last generated composition\n",
        "#@markdown NOTE: May be very slow with the long compositions\n",
        "print('Synthesizing the last output MIDI. Please stand-by... ')\n",
        "\n",
        "FluidSynth(\"/usr/share/sounds/sf2/FluidR3_GM.sf2\", 16000).midi_to_audio(str(fname + '.mid'), str(fname + '.wav'))\n",
        "Audio(str(fname + '.wav'), rate=16000)"
      ],
      "execution_count": null,
      "outputs": []
    },
    {
      "cell_type": "markdown",
      "metadata": {
        "id": "2Snu3fb4N-Nd"
      },
      "source": [
        "## Congrats! :) You did it :)"
      ]
    }
  ]
}